{
 "cells": [
  {
   "cell_type": "markdown",
   "id": "f0069770",
   "metadata": {},
   "source": [
    "# 🕒 Input Feature Drift Detection for TTE Data"
   ]
  },
  {
   "cell_type": "code",
   "execution_count": null,
   "id": "cafe7632",
   "metadata": {},
   "outputs": [],
   "source": [
    "\n",
    "import pandas as pd\n",
    "\n",
    "df_train = pd.read_csv(\"df_train_tte.csv\")\n",
    "df_current = pd.read_csv(\"df_current_tte.csv\")\n",
    "df_train.head()\n"
   ]
  },
  {
   "cell_type": "code",
   "execution_count": null,
   "id": "88f4e7f9",
   "metadata": {},
   "outputs": [],
   "source": [
    "\n",
    "feature_cols = [col for col in df_train.columns if col not in ['duration', 'event']]\n",
    "print(\"Input features for drift detection:\", feature_cols)\n"
   ]
  },
  {
   "cell_type": "code",
   "execution_count": null,
   "id": "5c3fbdfd",
   "metadata": {},
   "outputs": [],
   "source": [
    "\n",
    "from evidently.report import Report\n",
    "from evidently.metric_preset import DataDriftPreset\n",
    "\n",
    "report = Report(metrics=[DataDriftPreset()])\n",
    "report.run(reference_data=df_train[feature_cols], current_data=df_current[feature_cols])\n",
    "report.show()\n"
   ]
  },
  {
   "cell_type": "code",
   "execution_count": null,
   "id": "1994f163",
   "metadata": {},
   "outputs": [],
   "source": [
    "\n",
    "import numpy as np\n",
    "import mlflow\n",
    "from scipy.stats import entropy\n",
    "\n",
    "def calculate_psi(ref, curr, buckets=10):\n",
    "    def get_dist(x):\n",
    "        counts, _ = np.histogram(x, bins=buckets)\n",
    "        return counts / len(x)\n",
    "    return entropy(get_dist(ref), get_dist(curr))\n",
    "\n",
    "with mlflow.start_run(run_name=\"TTE_Feature_Drift\"):\n",
    "    for col in feature_cols:\n",
    "        psi = calculate_psi(df_train[col], df_current[col])\n",
    "        mlflow.log_metric(f\"psi_{col}\", psi)\n",
    "        print(f\"{col}: PSI = {psi:.4f}\")\n"
   ]
  }
 ],
 "metadata": {},
 "nbformat": 4,
 "nbformat_minor": 5
}