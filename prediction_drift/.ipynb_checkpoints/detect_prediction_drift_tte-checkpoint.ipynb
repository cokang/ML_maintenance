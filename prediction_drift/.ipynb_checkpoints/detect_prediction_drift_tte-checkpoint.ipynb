{
 "cells": [
  {
   "cell_type": "code",
   "execution_count": null,
   "id": "8af57157-9549-4d3e-946d-52f0130289df",
   "metadata": {},
   "outputs": [],
   "source": [
    "# 1. Install requirements (if needed)\n",
    "# !pip install pandas numpy matplotlib seaborn scikit-learn\n",
    "\n",
    "# 2. Imports\n",
    "import pandas as pd\n",
    "import numpy as np\n",
    "import matplotlib.pyplot as plt\n",
    "import seaborn as sns\n",
    "from sklearn.metrics import mean_squared_error\n",
    "from sklearn.ensemble import RandomForestRegressor\n",
    "\n",
    "sns.set(style=\"whitegrid\")"
   ]
  },
  {
   "cell_type": "code",
   "execution_count": null,
   "id": "f802f0ac-328b-4ca2-9e7d-fc8312036e81",
   "metadata": {},
   "outputs": [],
   "source": [
    "# 3. Load sample data (df_train_tte.csv and df_current_tte.csv)\n",
    "df_train = pd.read_csv(\"df_train_tte.csv\")\n",
    "df_current = pd.read_csv(\"df_current_tte.csv\")\n",
    "\n",
    "print(\"Training data shape:\", df_train.shape)\n",
    "print(\"Current data shape:\", df_current.shape)\n",
    "\n",
    "df_train.head()"
   ]
  },
  {
   "cell_type": "code",
   "execution_count": null,
   "id": "884eac7e-4736-4d46-af93-eec5861d2ffb",
   "metadata": {},
   "outputs": [],
   "source": [
    "# 4. Assume same features for both\n",
    "features = [\"feature1\", \"feature2\", \"feature3\"]\n",
    "target = \"tte\"\n",
    "\n",
    "X_train = df_train[features]\n",
    "y_train = df_train[target]\n",
    "\n",
    "X_current = df_current[features]\n",
    "y_current = df_current[target]"
   ]
  },
  {
   "cell_type": "code",
   "execution_count": null,
   "id": "9aa35d60-4f29-4e39-99cf-fd230d2dd4cb",
   "metadata": {},
   "outputs": [],
   "source": [
    "# 5. Train a mock model (simulate previously trained TTE model)\n",
    "model = RandomForestRegressor(random_state=42)\n",
    "model.fit(X_train, y_train)\n",
    "\n",
    "# Save predictions\n",
    "df_train[\"predicted_tte\"] = model.predict(X_train)\n",
    "df_current[\"predicted_tte\"] = model.predict(X_current)"
   ]
  },
  {
   "cell_type": "code",
   "execution_count": null,
   "id": "a837598c-5bfd-44ca-a38b-6efedb794d7c",
   "metadata": {},
   "outputs": [],
   "source": [
    "# 6. Compare prediction distributions\n",
    "plt.figure(figsize=(10, 5))\n",
    "sns.kdeplot(df_train[\"predicted_tte\"], label=\"Train Predictions\", fill=True)\n",
    "sns.kdeplot(df_current[\"predicted_tte\"], label=\"Current Predictions\", fill=True)\n",
    "plt.title(\"Prediction Distribution Comparison\")\n",
    "plt.xlabel(\"Predicted TTE\")\n",
    "plt.legend()\n",
    "plt.show()"
   ]
  },
  {
   "cell_type": "code",
   "execution_count": null,
   "id": "f0ab0fdc-6f69-443e-a2f1-7d292b2b9a72",
   "metadata": {},
   "outputs": [],
   "source": [
    "# 7. Calculate prediction drift metric (e.g., RMSE between predicted and true TTE)\n",
    "rmse_train = mean_squared_error(y_train, df_train[\"predicted_tte\"], squared=False)\n",
    "rmse_current = mean_squared_error(y_current, df_current[\"predicted_tte\"], squared=False)\n",
    "\n",
    "print(f\"RMSE on Training Set: {rmse_train:.2f}\")\n",
    "print(f\"RMSE on Current Set: {rmse_current:.2f}\")\n",
    "print(f\"Prediction Drift Delta: {rmse_current - rmse_train:.2f}\")"
   ]
  },
  {
   "cell_type": "code",
   "execution_count": null,
   "id": "2d713cc1-718c-4fbb-8b5c-0b633ca3a7d1",
   "metadata": {},
   "outputs": [],
   "source": [
    "# 8. Optional: Monitor drift over time (e.g., current data by date)\n",
    "df_current[\"date\"] = pd.to_datetime(df_current[\"date\"])\n",
    "df_current[\"error\"] = (df_current[\"tte\"] - df_current[\"predicted_tte\"])**2\n",
    "\n",
    "drift_over_time = df_current.groupby(df_current[\"date\"].dt.to_period(\"W\"))[\"error\"].mean()\n",
    "\n",
    "drift_over_time.plot(kind=\"line\", figsize=(10, 4), title=\"Prediction Drift Over Time\")\n",
    "plt.ylabel(\"Mean Squared Error\")\n",
    "plt.xlabel(\"Week\")\n",
    "plt.show()"
   ]
  }
 ],
 "metadata": {
  "kernelspec": {
   "display_name": "Python 3 (ipykernel)",
   "language": "python",
   "name": "python3"
  },
  "language_info": {
   "codemirror_mode": {
    "name": "ipython",
    "version": 3
   },
   "file_extension": ".py",
   "mimetype": "text/x-python",
   "name": "python",
   "nbconvert_exporter": "python",
   "pygments_lexer": "ipython3",
   "version": "3.12.11"
  }
 },
 "nbformat": 4,
 "nbformat_minor": 5
}
